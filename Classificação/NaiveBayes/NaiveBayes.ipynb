{
 "metadata": {
  "language_info": {
   "codemirror_mode": {
    "name": "ipython",
    "version": 3
   },
   "file_extension": ".py",
   "mimetype": "text/x-python",
   "name": "python",
   "nbconvert_exporter": "python",
   "pygments_lexer": "ipython3",
   "version": "3.8.5-final"
  },
  "orig_nbformat": 2,
  "kernelspec": {
   "name": "python3",
   "display_name": "Python 3",
   "language": "python"
  }
 },
 "nbformat": 4,
 "nbformat_minor": 2,
 "cells": [
  {
   "source": [
    "  Este código busca treinar um modelo de aprendizado de máquina que responda corretamente se uma pessoa sobreviveu ou não ao naufrágio do Titanic com base nos dados (12 variáveis diferentes) de 891 passageiros.\n",
    "\n",
    "  This code aims to train a machine learning model that predicts correctly if a person survived or not the Titanic wreck based on the data (12 differente variables) of 891 passangers.\n",
    "  "
   ],
   "cell_type": "markdown",
   "metadata": {}
  },
  {
   "cell_type": "code",
   "execution_count": 185,
   "metadata": {},
   "outputs": [],
   "source": [
    "import pandas as pd"
   ]
  },
  {
   "source": [
    "Carregando a Base de Dados:\n",
    "\n",
    "Loading the Database:\n"
   ],
   "cell_type": "markdown",
   "metadata": {}
  },
  {
   "cell_type": "code",
   "execution_count": 186,
   "metadata": {},
   "outputs": [],
   "source": [
    "data = pd.read_csv('titanic.csv')"
   ]
  },
  {
   "source": [
    "Briefly analyzing the data:\n",
    "\n",
    "Fazendo uma breve análise dos dados:"
   ],
   "cell_type": "markdown",
   "metadata": {}
  },
  {
   "cell_type": "code",
   "execution_count": 187,
   "metadata": {},
   "outputs": [
    {
     "output_type": "stream",
     "name": "stdout",
     "text": [
      "A coluna Age tem 19.87% de valores nulos\nA coluna Cabin tem 77.1% de valores nulos\nA coluna Embarked tem 0.22% de valores nulos\n"
     ]
    }
   ],
   "source": [
    "for column in data.columns:\n",
    "    if len(data[column])-data[column].count() > 0:\n",
    "        print(f'A coluna {column} tem {round((len(data[column])-data[column].count())/len(data[column])*100,2)}% de valores nulos')"
   ]
  },
  {
   "source": [
    "Pode-se observar que a coluna 'Cabine' possui uma quantidade elevada de valores nulos (77%), que precisam ser deletados. A coluna de idade também possui um número expressivo de valores nulos (19%), que serão substituídos pela idade média dos passageiros:\n",
    "\n",
    "It's easy to tell that the column 'Cabin' has a considerably large amount of null values (77%), wich need be deleted.The column 'Age' also has a significant amount of null values ​​(19%), and these will be replaced by the average age of passengers:\n"
   ],
   "cell_type": "markdown",
   "metadata": {}
  },
  {
   "cell_type": "code",
   "execution_count": 188,
   "metadata": {},
   "outputs": [],
   "source": [
    "data['Age'] = data['Age'].fillna(data['Age'].mean())\n",
    "data = data.drop('Cabin', axis=1)"
   ]
  },
  {
   "source": [
    "As outras 2 linhas contendo valores nulos serão excluídas:\n",
    "\n",
    "The other 2 rows containing null values will be deleted:\n"
   ],
   "cell_type": "markdown",
   "metadata": {}
  },
  {
   "cell_type": "code",
   "execution_count": 189,
   "metadata": {},
   "outputs": [],
   "source": [
    "data = data.dropna()"
   ]
  },
  {
   "source": [
    "Algumas colunas não aumentariam a precisão do modelo, portanto elas serão retiradas do banco de dados:\n",
    "\n",
    "A few columns would not increase the model's accuracy, so they will be dropped from the Database:\n"
   ],
   "cell_type": "markdown",
   "metadata": {}
  },
  {
   "cell_type": "code",
   "execution_count": 190,
   "metadata": {},
   "outputs": [],
   "source": [
    "to_drop_columns = ['Name', 'Ticket', 'PassengerId', 'Embarked' ]\n",
    "for column in to_drop_columns:\n",
    "    data = data.drop(column, axis=1)"
   ]
  },
  {
   "source": [
    "A meta (que é se a pessoa sobreviveu ou não) é separado dos demais preditores:\n",
    "\n",
    "The target (wich is if the person survived or not) is splited from the rest:\n"
   ],
   "cell_type": "markdown",
   "metadata": {}
  },
  {
   "source": [
    "target = data['Survived']\n",
    "predictors = data.drop('Survived', axis=1) "
   ],
   "cell_type": "code",
   "metadata": {},
   "execution_count": 191,
   "outputs": []
  },
  {
   "source": [
    "Todas as colunas preditivas são numéricas, excetuando 'Sexo', então seus valores serão definidos como 1 ou 0:\n",
    "\n",
    "All of the predictory columns are numeric, except for the 'Sex', so its values will be labeled as 1 or 0:\n"
   ],
   "cell_type": "markdown",
   "metadata": {}
  },
  {
   "cell_type": "code",
   "execution_count": 192,
   "metadata": {},
   "outputs": [],
   "source": [
    "from sklearn.preprocessing import LabelEncoder\n",
    "labeler = LabelEncoder()\n",
    "predictors['Sex'] = labeler.fit_transform(predictors['Sex'])    "
   ]
  },
  {
   "source": [
    "Os preditores precisam ser escalonados para aumentar a eficiência do modelo:\n",
    "\n",
    "The predictors need to be staggered to increase the model's eficiency:\n"
   ],
   "cell_type": "markdown",
   "metadata": {}
  },
  {
   "cell_type": "code",
   "execution_count": 193,
   "metadata": {},
   "outputs": [],
   "source": [
    "from sklearn.preprocessing import StandardScaler\n",
    "scaler = StandardScaler()\n",
    "predictors = scaler.fit_transform(predictors)"
   ]
  },
  {
   "source": [
    "A meta e os preditores são separados nos dados de treinamento e teste (tamanho do teste = 20%):\n",
    "\n",
    "The target and the predictors are both separeted in training and testing data (test size = 20%):\n"
   ],
   "cell_type": "markdown",
   "metadata": {}
  },
  {
   "cell_type": "code",
   "execution_count": 194,
   "metadata": {},
   "outputs": [],
   "source": [
    "from sklearn.model_selection import train_test_split\n",
    "predictors_test, predictors_train, target_test, target_train = train_test_split(predictors, target, test_size=0.2)"
   ]
  },
  {
   "source": [
    "Uma vez que os dados estão corretamente modelados, o KNN é importado, no qual os dados de treino (preditoras e alvo) são aplicados, usando o número de 5 vizinhos na análise:\n",
    "\n",
    "Once the data is correctly modeled the KNN Method is imported, in which the training data (predictors and target) are fitted in, using 5 as the number of neighbors:\n"
   ],
   "cell_type": "markdown",
   "metadata": {}
  },
  {
   "cell_type": "code",
   "execution_count": 195,
   "metadata": {},
   "outputs": [],
   "source": [
    "from sklearn.neighbors import KNeighborsClassifier\n",
    "classifier = KNeighborsClassifier(n_neighbors=5, metric='minkowski', p=2)\n",
    "classifier.fit(predictors_train, target_train)\n",
    "predictions = classifier.predict(predictors_test)"
   ]
  },
  {
   "source": [
    " Para medir a precisão do modelo, é necessário comparar as previsões feitas por ele, usando o predictors_test, e compará-lo com o target_test:\n",
    "\n",
    " In order to measure how accurate was the model, is needed to compare the predictions made by it, using the predictors_test, and compare it with the target_test:\n",
    " "
   ],
   "cell_type": "markdown",
   "metadata": {}
  },
  {
   "cell_type": "code",
   "execution_count": 196,
   "metadata": {},
   "outputs": [
    {
     "output_type": "execute_result",
     "data": {
      "text/plain": [
       "0.7946554149085795"
      ]
     },
     "metadata": {},
     "execution_count": 196
    }
   ],
   "source": [
    "from sklearn.metrics import confusion_matrix, accuracy_score\n",
    "accuracy = accuracy_score(predictions, target_test)\n",
    "\n",
    "accuracy"
   ]
  },
  {
   "source": [
    "O modelo tem precisão de aproximadamente 79%. De forma que, o modelo tem a probabilidade de 79,23% de responder corretamente se o passageiro sobreviveu ou não baseado em seus dados.\n",
    "\n",
    "The model has the accuracy of approximately 79%. So, the model has the probability of 79,23% of answering correctly if the passenger survived or not based on its data.  "
   ],
   "cell_type": "markdown",
   "metadata": {}
  }
 ]
}